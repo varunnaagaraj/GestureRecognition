{
 "cells": [
  {
   "cell_type": "markdown",
   "metadata": {},
   "source": [
    "# Gesture Recognition\n",
    "In this group project, you are going to build a 3D Conv model that will be able to predict the 5 gestures correctly. Please import the following libraries to get started."
   ]
  },
  {
   "cell_type": "code",
   "execution_count": 2,
   "metadata": {},
   "outputs": [
    {
     "name": "stdout",
     "output_type": "stream",
     "text": [
      "Requirement already satisfied: keras in /Users/Varun/opt/anaconda3/lib/python3.7/site-packages (2.4.3)\n",
      "Requirement already satisfied: h5py in /Users/Varun/opt/anaconda3/lib/python3.7/site-packages (from keras) (2.10.0)\n",
      "Requirement already satisfied: pyyaml in /Users/Varun/opt/anaconda3/lib/python3.7/site-packages (from keras) (5.3)\n",
      "Requirement already satisfied: scipy>=0.14 in /Users/Varun/opt/anaconda3/lib/python3.7/site-packages (from keras) (1.1.0)\n",
      "Requirement already satisfied: numpy>=1.9.1 in /Users/Varun/opt/anaconda3/lib/python3.7/site-packages (from keras) (1.18.1)\n",
      "Requirement already satisfied: six in /Users/Varun/opt/anaconda3/lib/python3.7/site-packages (from h5py->keras) (1.14.0)\n",
      "Note: you may need to restart the kernel to use updated packages.\n"
     ]
    }
   ],
   "source": [
    "pip install keras"
   ]
  },
  {
   "cell_type": "code",
   "execution_count": 3,
   "metadata": {},
   "outputs": [
    {
     "name": "stdout",
     "output_type": "stream",
     "text": [
      "Requirement already satisfied: tensorflow in /Users/Varun/opt/anaconda3/lib/python3.7/site-packages (2.3.0)\n",
      "Requirement already satisfied: tensorflow-estimator<2.4.0,>=2.3.0 in /Users/Varun/opt/anaconda3/lib/python3.7/site-packages (from tensorflow) (2.3.0)\n",
      "Requirement already satisfied: astunparse==1.6.3 in /Users/Varun/opt/anaconda3/lib/python3.7/site-packages (from tensorflow) (1.6.3)\n",
      "Requirement already satisfied: wrapt>=1.11.1 in /Users/Varun/opt/anaconda3/lib/python3.7/site-packages (from tensorflow) (1.11.2)\n",
      "Requirement already satisfied: absl-py>=0.7.0 in /Users/Varun/opt/anaconda3/lib/python3.7/site-packages (from tensorflow) (0.10.0)\n",
      "Requirement already satisfied: h5py<2.11.0,>=2.10.0 in /Users/Varun/opt/anaconda3/lib/python3.7/site-packages (from tensorflow) (2.10.0)\n",
      "Requirement already satisfied: keras-preprocessing<1.2,>=1.1.1 in /Users/Varun/opt/anaconda3/lib/python3.7/site-packages (from tensorflow) (1.1.2)\n",
      "Requirement already satisfied: protobuf>=3.9.2 in /Users/Varun/opt/anaconda3/lib/python3.7/site-packages (from tensorflow) (3.13.0)\n",
      "Requirement already satisfied: six>=1.12.0 in /Users/Varun/opt/anaconda3/lib/python3.7/site-packages (from tensorflow) (1.14.0)\n",
      "Requirement already satisfied: google-pasta>=0.1.8 in /Users/Varun/opt/anaconda3/lib/python3.7/site-packages (from tensorflow) (0.2.0)\n",
      "Requirement already satisfied: numpy<1.19.0,>=1.16.0 in /Users/Varun/opt/anaconda3/lib/python3.7/site-packages (from tensorflow) (1.18.1)\n",
      "Requirement already satisfied: opt-einsum>=2.3.2 in /Users/Varun/opt/anaconda3/lib/python3.7/site-packages (from tensorflow) (3.3.0)\n",
      "Requirement already satisfied: grpcio>=1.8.6 in /Users/Varun/opt/anaconda3/lib/python3.7/site-packages (from tensorflow) (1.32.0)\n",
      "Requirement already satisfied: tensorboard<3,>=2.3.0 in /Users/Varun/opt/anaconda3/lib/python3.7/site-packages (from tensorflow) (2.3.0)\n",
      "Collecting scipy==1.4.1\n",
      "  Using cached scipy-1.4.1-cp37-cp37m-macosx_10_6_intel.whl (28.4 MB)\n",
      "Requirement already satisfied: termcolor>=1.1.0 in /Users/Varun/opt/anaconda3/lib/python3.7/site-packages (from tensorflow) (1.1.0)\n",
      "Requirement already satisfied: gast==0.3.3 in /Users/Varun/opt/anaconda3/lib/python3.7/site-packages (from tensorflow) (0.3.3)\n",
      "Requirement already satisfied: wheel>=0.26 in /Users/Varun/opt/anaconda3/lib/python3.7/site-packages (from tensorflow) (0.34.2)\n",
      "Requirement already satisfied: setuptools in /Users/Varun/opt/anaconda3/lib/python3.7/site-packages (from protobuf>=3.9.2->tensorflow) (46.0.0.post20200309)\n",
      "Requirement already satisfied: requests<3,>=2.21.0 in /Users/Varun/opt/anaconda3/lib/python3.7/site-packages (from tensorboard<3,>=2.3.0->tensorflow) (2.22.0)\n",
      "Requirement already satisfied: google-auth<2,>=1.6.3 in /Users/Varun/opt/anaconda3/lib/python3.7/site-packages (from tensorboard<3,>=2.3.0->tensorflow) (1.21.1)\n",
      "Requirement already satisfied: tensorboard-plugin-wit>=1.6.0 in /Users/Varun/opt/anaconda3/lib/python3.7/site-packages (from tensorboard<3,>=2.3.0->tensorflow) (1.7.0)\n",
      "Requirement already satisfied: markdown>=2.6.8 in /Users/Varun/opt/anaconda3/lib/python3.7/site-packages (from tensorboard<3,>=2.3.0->tensorflow) (3.2.2)\n",
      "Requirement already satisfied: google-auth-oauthlib<0.5,>=0.4.1 in /Users/Varun/opt/anaconda3/lib/python3.7/site-packages (from tensorboard<3,>=2.3.0->tensorflow) (0.4.1)\n",
      "Requirement already satisfied: werkzeug>=0.11.15 in /Users/Varun/opt/anaconda3/lib/python3.7/site-packages (from tensorboard<3,>=2.3.0->tensorflow) (1.0.0)\n",
      "Requirement already satisfied: chardet<3.1.0,>=3.0.2 in /Users/Varun/opt/anaconda3/lib/python3.7/site-packages (from requests<3,>=2.21.0->tensorboard<3,>=2.3.0->tensorflow) (3.0.4)\n",
      "Requirement already satisfied: certifi>=2017.4.17 in /Users/Varun/opt/anaconda3/lib/python3.7/site-packages (from requests<3,>=2.21.0->tensorboard<3,>=2.3.0->tensorflow) (2019.11.28)\n",
      "Requirement already satisfied: idna<2.9,>=2.5 in /Users/Varun/opt/anaconda3/lib/python3.7/site-packages (from requests<3,>=2.21.0->tensorboard<3,>=2.3.0->tensorflow) (2.8)\n",
      "Requirement already satisfied: urllib3!=1.25.0,!=1.25.1,<1.26,>=1.21.1 in /Users/Varun/opt/anaconda3/lib/python3.7/site-packages (from requests<3,>=2.21.0->tensorboard<3,>=2.3.0->tensorflow) (1.25.8)\n",
      "Requirement already satisfied: pyasn1-modules>=0.2.1 in /Users/Varun/opt/anaconda3/lib/python3.7/site-packages (from google-auth<2,>=1.6.3->tensorboard<3,>=2.3.0->tensorflow) (0.2.8)\n",
      "Requirement already satisfied: cachetools<5.0,>=2.0.0 in /Users/Varun/opt/anaconda3/lib/python3.7/site-packages (from google-auth<2,>=1.6.3->tensorboard<3,>=2.3.0->tensorflow) (4.1.1)\n",
      "Requirement already satisfied: rsa<5,>=3.1.4; python_version >= \"3.5\" in /Users/Varun/opt/anaconda3/lib/python3.7/site-packages (from google-auth<2,>=1.6.3->tensorboard<3,>=2.3.0->tensorflow) (4.6)\n",
      "Requirement already satisfied: importlib-metadata; python_version < \"3.8\" in /Users/Varun/opt/anaconda3/lib/python3.7/site-packages (from markdown>=2.6.8->tensorboard<3,>=2.3.0->tensorflow) (1.5.0)\n",
      "Requirement already satisfied: requests-oauthlib>=0.7.0 in /Users/Varun/opt/anaconda3/lib/python3.7/site-packages (from google-auth-oauthlib<0.5,>=0.4.1->tensorboard<3,>=2.3.0->tensorflow) (1.3.0)\n",
      "Requirement already satisfied: pyasn1<0.5.0,>=0.4.6 in /Users/Varun/opt/anaconda3/lib/python3.7/site-packages (from pyasn1-modules>=0.2.1->google-auth<2,>=1.6.3->tensorboard<3,>=2.3.0->tensorflow) (0.4.8)\n",
      "Requirement already satisfied: zipp>=0.5 in /Users/Varun/opt/anaconda3/lib/python3.7/site-packages (from importlib-metadata; python_version < \"3.8\"->markdown>=2.6.8->tensorboard<3,>=2.3.0->tensorflow) (2.2.0)\n",
      "Requirement already satisfied: oauthlib>=3.0.0 in /Users/Varun/opt/anaconda3/lib/python3.7/site-packages (from requests-oauthlib>=0.7.0->google-auth-oauthlib<0.5,>=0.4.1->tensorboard<3,>=2.3.0->tensorflow) (3.1.0)\n",
      "Installing collected packages: scipy\n",
      "  Attempting uninstall: scipy\n",
      "    Found existing installation: scipy 1.1.0\n",
      "    Uninstalling scipy-1.1.0:\n",
      "      Successfully uninstalled scipy-1.1.0\n",
      "Successfully installed scipy-1.4.1\n",
      "Note: you may need to restart the kernel to use updated packages.\n"
     ]
    }
   ],
   "source": [
    "pip install tensorflow"
   ]
  },
  {
   "cell_type": "code",
   "execution_count": 6,
   "metadata": {},
   "outputs": [
    {
     "name": "stdout",
     "output_type": "stream",
     "text": [
      "Requirement already satisfied: scipy==1.1.0 in /Users/Varun/opt/anaconda3/lib/python3.7/site-packages (1.1.0)\n",
      "Requirement already satisfied: numpy>=1.8.2 in /Users/Varun/opt/anaconda3/lib/python3.7/site-packages (from scipy==1.1.0) (1.18.1)\n",
      "Note: you may need to restart the kernel to use updated packages.\n"
     ]
    }
   ],
   "source": [
    "pip install scipy==1.1.0"
   ]
  },
  {
   "cell_type": "code",
   "execution_count": 1,
   "metadata": {},
   "outputs": [],
   "source": [
    "import numpy as np\n",
    "import os\n",
    "from scipy.misc import imread, imresize\n",
    "import datetime\n",
    "import os\n",
    "from cv2 import *"
   ]
  },
  {
   "cell_type": "markdown",
   "metadata": {},
   "source": [
    "We set the random seed so that the results don't vary drastically."
   ]
  },
  {
   "cell_type": "code",
   "execution_count": 2,
   "metadata": {},
   "outputs": [],
   "source": [
    "np.random.seed(30)\n",
    "import random as rn\n",
    "rn.seed(30)\n",
    "from keras import backend as K\n",
    "import tensorflow as tf\n",
    "tf.random.set_seed(30)"
   ]
  },
  {
   "cell_type": "markdown",
   "metadata": {},
   "source": [
    "In this block, you read the folder names for training and validation. You also set the `batch_size` here. Note that you set the batch size in such a way that you are able to use the GPU in full capacity. You keep increasing the batch size until the machine throws an error."
   ]
  },
  {
   "cell_type": "code",
   "execution_count": 3,
   "metadata": {},
   "outputs": [],
   "source": [
    "train_doc = np.random.permutation(open('./Project_data/train.csv').readlines())\n",
    "val_doc = np.random.permutation(open('./Project_data/val.csv').readlines())\n",
    "batch_size = 10 #experiment with the batch size"
   ]
  },
  {
   "cell_type": "code",
   "execution_count": 4,
   "metadata": {},
   "outputs": [],
   "source": [
    "rows = 120\n",
    "cols = 120\n",
    "channels = 3\n",
    "frames = 15"
   ]
  },
  {
   "cell_type": "code",
   "execution_count": 5,
   "metadata": {},
   "outputs": [],
   "source": [
    "class preProcessImages:\n",
    "    def crop(self, img):\n",
    "        if img.shape[0] != img.shape[1]:\n",
    "            img=img[0:120,10:150]\n",
    "        resized_image = imresize(img, (rows,cols))\n",
    "        return resized_image\n",
    "    \n",
    "    def normalize(self, img):\n",
    "        return (img - np.min(img))/(np.max(img)- np.min(img))\n",
    "    \n",
    "    def fetch_batch_data(self, source_path, folder_list, batch_num, batch_size, t,validation):\n",
    "        batch_data = np.zeros((batch_size,frames,rows,cols,channels))\n",
    "        # OneHotEncoding\n",
    "        batch_labels = np.zeros((batch_size,5))\n",
    "        batch_data_aug = batch_horizontal_data= batch_data\n",
    "        batch_label_aug = batch_horizontal_label = batch_labels\n",
    "        #create a list of image numbers you want to use for a particular video using full frames\n",
    "        img_idx = [x for x in range(0, frames, 2)] \n",
    "        for folder in range(batch_size): # iterate over the batch_size\n",
    "            # read all the images in the folder\n",
    "            imgs = sorted(os.listdir(source_path+'/'+ t[folder + (batch_num*batch_size)].split(';')[0])) \n",
    "            # create a random affine to be used in image transformation for buidling agumented data set\n",
    "            dx, dy = np.random.randint(-1.7, 1.8, 2)\n",
    "            M = np.float32([[1, 0, dx], [0, 1, dy]])\n",
    "\n",
    "            #  Iterate over the frames for each folder to read them in\n",
    "            for idx, item in enumerate(img_idx):             \n",
    "                image = cv2.imread(source_path+'/'+ t[folder + (batch_num*batch_size)].strip().split(';')[0]+'/'+imgs[item], cv2.IMREAD_COLOR)\n",
    "                image = cv2.cvtColor(image, cv2.COLOR_BGR2RGB)           \n",
    "                # Cropping non symmetric frames\n",
    "                #crop the images and resize them. Note that the images are of 2 different shape \n",
    "                #and the conv3D will throw error if the inputs in a batch have different shapes \n",
    "                resized_image= self.crop(image)\n",
    "\n",
    "                #Normal data for all three channels\n",
    "                batch_data[folder,idx,:,:,0] = self.normalize(resized_image[:, : , 0])#normalise and feed in the image\n",
    "                batch_data[folder,idx,:,:,1] = self.normalize(resized_image[:, : , 1])#normalise and feed in the image\n",
    "                batch_data[folder,idx,:,:,2] = self.normalize(resized_image[:, : , 2])#normalise and feed in the image\n",
    "\n",
    "                x =resized_image.shape[0]\n",
    "                y =resized_image.shape[1]\n",
    "                #Data with affine transformation\n",
    "                batch_data_aug[folder,idx] = (cv2.warpAffine(resized_image, M, (x,y)))\n",
    "\n",
    "                # Data with horizontal flip\n",
    "                batch_horizontal_data[folder,idx]= np.flip(resized_image,1)\n",
    "\n",
    "            batch_labels[folder, int(t[folder + (batch_num*batch_size)].strip().split(';')[2])] = 1\n",
    "            batch_label_aug[folder, int(t[folder + (batch_num*batch_size)].strip().split(';')[2])] = 1\n",
    "\n",
    "            if int(t[folder + (batch_num * batch_size)].strip().split(';')[2])==0:\n",
    "                batch_horizontal_label[folder, 1] = 1\n",
    "            elif int(t[folder + (batch_num*batch_size)].strip().split(';')[2])==1:\n",
    "                batch_horizontal_label[folder, 0] = 1                    \n",
    "            else:\n",
    "                batch_horizontal_label[folder, int(t[folder + (batch_num*batch_size)].strip().split(';')[2])] = 1\n",
    "\n",
    "        #adding the augumented data in the main data.\n",
    "\n",
    "        batch_data_final = np.append(batch_data, batch_data_aug, axis = 0)\n",
    "        batch_data_final = np.append(batch_data_final, batch_horizontal_data, axis = 0)\n",
    "\n",
    "        batch_label_final = np.append(batch_labels, batch_label_aug, axis = 0) \n",
    "        batch_label_final = np.append(batch_label_final, batch_horizontal_label, axis = 0)\n",
    "\n",
    "        if validation:\n",
    "            batch_data_final=batch_data\n",
    "            batch_label_final= batch_labels\n",
    "\n",
    "        return batch_data_final,batch_label_final"
   ]
  },
  {
   "cell_type": "markdown",
   "metadata": {},
   "source": [
    "## Generator\n",
    "This is one of the most important part of the code. The overall structure of the generator has been given. In the generator, you are going to preprocess the images as you have images of 2 different dimensions as well as create a batch of video frames. You have to experiment with `img_idx`, `y`,`z` and normalization such that you get high accuracy."
   ]
  },
  {
   "cell_type": "code",
   "execution_count": 6,
   "metadata": {},
   "outputs": [],
   "source": [
    "def generator(source_path, folder_list, batch_size, validation=False):\n",
    "    print( 'Source path = ', source_path, '; batch size =', batch_size)\n",
    "    preProcessObj = preProcessImages()\n",
    "    while True:\n",
    "        t = np.random.permutation(folder_list)\n",
    "        num_batches = len(folder_list)//batch_size # calculate the number of batches\n",
    "        for batch in range(num_batches): # we iterate over the number of batches\n",
    "            yield preProcessObj.fetch_batch_data(source_path, folder_list, batch, batch_size, t, validation)\n",
    "        \n",
    "        # write the code for the remaining data points which are left after full batches\n",
    "        if (len(folder_list) != batch_size*num_batches):\n",
    "            batch_size = len(folder_list) - (batch_size*num_batches)\n",
    "            yield preProcessObj.fetch_batch_data(source_path, folder_list, batch, batch_size, t, validation)"
   ]
  },
  {
   "cell_type": "markdown",
   "metadata": {},
   "source": [
    "Note here that a video is represented above in the generator as (number of images, height, width, number of channels). Take this into consideration while creating the model architecture."
   ]
  },
  {
   "cell_type": "code",
   "execution_count": 15,
   "metadata": {},
   "outputs": [
    {
     "name": "stdout",
     "output_type": "stream",
     "text": [
      "# training sequences = 663\n",
      "# validation sequences = 100\n",
      "# epochs = 5\n"
     ]
    }
   ],
   "source": [
    "curr_dt_time = datetime.datetime.now()\n",
    "train_path = './Project_data/train'\n",
    "val_path = './Project_data/val'\n",
    "num_train_sequences = len(train_doc)\n",
    "print('# training sequences =', num_train_sequences)\n",
    "num_val_sequences = len(val_doc)\n",
    "print('# validation sequences =', num_val_sequences)\n",
    "num_epochs = 5\n",
    "print ('# epochs =', num_epochs)"
   ]
  },
  {
   "cell_type": "markdown",
   "metadata": {},
   "source": [
    "## Model\n",
    "Here you make the model using different functionalities that Keras provides. Remember to use `Conv3D` and `MaxPooling3D` and not `Conv2D` and `Maxpooling2D` for a 3D convolution model. You would want to use `TimeDistributed` while building a Conv2D + RNN model. Also remember that the last layer is the softmax. Design the network in such a way that the model is able to give good accuracy on the least number of parameters so that it can fit in the memory of the webcam."
   ]
  },
  {
   "cell_type": "code",
   "execution_count": 16,
   "metadata": {},
   "outputs": [
    {
     "data": {
      "text/plain": [
       "(15, 120, 120, 3)"
      ]
     },
     "execution_count": 16,
     "metadata": {},
     "output_type": "execute_result"
    }
   ],
   "source": [
    "(frames, rows, cols, channels)"
   ]
  },
  {
   "cell_type": "code",
   "execution_count": 20,
   "metadata": {},
   "outputs": [],
   "source": [
    "from keras.models import Sequential, Model\n",
    "from keras.layers import Dense, GRU, Flatten, TimeDistributed, Flatten, BatchNormalization, Activation, Dropout\n",
    "from keras.layers.convolutional import Conv3D, MaxPooling3D\n",
    "from keras.callbacks import ModelCheckpoint, ReduceLROnPlateau\n",
    "from keras import optimizers\n",
    "\n",
    "#write your model here\n",
    "featureMap = [8,16,32,64]\n",
    "denseMap = [128, 64, 5]\n",
    "classes = 5\n",
    "input_shape = (frames, rows, cols, channels)\n",
    "\n",
    "model = Sequential()\n",
    "model.add(Conv3D(\n",
    "    8, (3,3,3), activation='relu', input_shape=input_shape\n",
    "))\n",
    "model.add(MaxPooling3D(pool_size=(1, 2, 2), strides=(1, 2, 2)))\n",
    "model.add(Conv3D(16, (3,3,3), activation='relu'))\n",
    "model.add(MaxPooling3D(pool_size=(1, 2, 2), strides=(1, 2, 2)))\n",
    "model.add(Conv3D(32, (3,3,3), activation='relu'))\n",
    "model.add(Conv3D(32, (3,3,3), activation='relu'))\n",
    "model.add(MaxPooling3D(pool_size=(1, 2, 2), strides=(1, 2, 2)))\n",
    "model.add(Conv3D(64, (2,2,2), activation='relu'))\n",
    "model.add(Conv3D(64, (2,2,2), activation='relu'))\n",
    "model.add(MaxPooling3D(pool_size=(1, 2, 2), strides=(1, 2, 2)))\n",
    "\n",
    "model.add(Flatten())\n",
    "model.add(Dense(512))\n",
    "model.add(Dropout(0.5))\n",
    "model.add(Dense(256))\n",
    "model.add(Dropout(0.5))\n",
    "model.add(Dense(classes, activation='softmax'))"
   ]
  },
  {
   "cell_type": "markdown",
   "metadata": {},
   "source": [
    "Now that you have written the model, the next step is to `compile` the model. When you print the `summary` of the model, you'll see the total number of parameters you have to train."
   ]
  },
  {
   "cell_type": "code",
   "execution_count": 22,
   "metadata": {
    "scrolled": true
   },
   "outputs": [
    {
     "name": "stdout",
     "output_type": "stream",
     "text": [
      "Model: \"sequential_3\"\n",
      "_________________________________________________________________\n",
      "Layer (type)                 Output Shape              Param #   \n",
      "=================================================================\n",
      "conv3d_18 (Conv3D)           (None, 13, 118, 118, 8)   656       \n",
      "_________________________________________________________________\n",
      "max_pooling3d_12 (MaxPooling (None, 13, 59, 59, 8)     0         \n",
      "_________________________________________________________________\n",
      "conv3d_19 (Conv3D)           (None, 11, 57, 57, 16)    3472      \n",
      "_________________________________________________________________\n",
      "max_pooling3d_13 (MaxPooling (None, 11, 28, 28, 16)    0         \n",
      "_________________________________________________________________\n",
      "conv3d_20 (Conv3D)           (None, 9, 26, 26, 32)     13856     \n",
      "_________________________________________________________________\n",
      "conv3d_21 (Conv3D)           (None, 7, 24, 24, 32)     27680     \n",
      "_________________________________________________________________\n",
      "max_pooling3d_14 (MaxPooling (None, 7, 12, 12, 32)     0         \n",
      "_________________________________________________________________\n",
      "conv3d_22 (Conv3D)           (None, 6, 11, 11, 64)     16448     \n",
      "_________________________________________________________________\n",
      "conv3d_23 (Conv3D)           (None, 5, 10, 10, 64)     32832     \n",
      "_________________________________________________________________\n",
      "max_pooling3d_15 (MaxPooling (None, 5, 5, 5, 64)       0         \n",
      "_________________________________________________________________\n",
      "flatten_3 (Flatten)          (None, 8000)              0         \n",
      "_________________________________________________________________\n",
      "dense_8 (Dense)              (None, 512)               4096512   \n",
      "_________________________________________________________________\n",
      "dropout_6 (Dropout)          (None, 512)               0         \n",
      "_________________________________________________________________\n",
      "dense_9 (Dense)              (None, 256)               131328    \n",
      "_________________________________________________________________\n",
      "dropout_7 (Dropout)          (None, 256)               0         \n",
      "_________________________________________________________________\n",
      "dense_10 (Dense)             (None, 5)                 1285      \n",
      "=================================================================\n",
      "Total params: 4,324,069\n",
      "Trainable params: 4,324,069\n",
      "Non-trainable params: 0\n",
      "_________________________________________________________________\n",
      "None\n"
     ]
    }
   ],
   "source": [
    "from keras.optimizers import Adam\n",
    "optimiser = Adam(0.001) #write your optimizer\n",
    "model.compile(optimizer=optimiser, loss='categorical_crossentropy', metrics=['categorical_accuracy'])\n",
    "print (model.summary())"
   ]
  },
  {
   "cell_type": "markdown",
   "metadata": {},
   "source": [
    "Let us create the `train_generator` and the `val_generator` which will be used in `.fit_generator`."
   ]
  },
  {
   "cell_type": "code",
   "execution_count": 23,
   "metadata": {},
   "outputs": [],
   "source": [
    "train_generator = generator(train_path, train_doc, batch_size)\n",
    "val_generator = generator(val_path, val_doc, batch_size)"
   ]
  },
  {
   "cell_type": "code",
   "execution_count": 24,
   "metadata": {},
   "outputs": [
    {
     "name": "stdout",
     "output_type": "stream",
     "text": [
      "WARNING:tensorflow:`period` argument is deprecated. Please use `save_freq` to specify the frequency in number of batches seen.\n"
     ]
    }
   ],
   "source": [
    "model_name = 'model_init' + '_' + str(curr_dt_time).replace(' ','').replace(':','_') + '/'\n",
    "    \n",
    "if not os.path.exists(model_name):\n",
    "    os.mkdir(model_name)\n",
    "        \n",
    "filepath = model_name + 'model-{epoch:05d}-{loss:.5f}-{categorical_accuracy:.5f}-{val_loss:.5f}-{val_categorical_accuracy:.5f}.h5'\n",
    "\n",
    "checkpoint = ModelCheckpoint(filepath, monitor='val_loss', verbose=1, save_best_only=False, save_weights_only=False, mode='auto', period=1)\n",
    "\n",
    "LR = ReduceLROnPlateau(monitor='val_loss', factor=0.01, patience=5, cooldown=4, verbose=1,mode='auto',min_delta=0.0001)# write the REducelronplateau code here\n",
    "callbacks_list = [checkpoint, LR]"
   ]
  },
  {
   "cell_type": "markdown",
   "metadata": {},
   "source": [
    "The `steps_per_epoch` and `validation_steps` are used by `fit_generator` to decide the number of next() calls it need to make."
   ]
  },
  {
   "cell_type": "code",
   "execution_count": 25,
   "metadata": {},
   "outputs": [],
   "source": [
    "if (num_train_sequences%batch_size) == 0:\n",
    "    steps_per_epoch = int(num_train_sequences/batch_size)\n",
    "else:\n",
    "    steps_per_epoch = (num_train_sequences//batch_size) + 1\n",
    "\n",
    "if (num_val_sequences%batch_size) == 0:\n",
    "    validation_steps = int(num_val_sequences/batch_size)\n",
    "else:\n",
    "    validation_steps = (num_val_sequences//batch_size) + 1"
   ]
  },
  {
   "cell_type": "markdown",
   "metadata": {},
   "source": [
    "Let us now fit the model. This will start training the model and with the help of the checkpoints, you'll be able to save the model at the end of each epoch."
   ]
  },
  {
   "cell_type": "code",
   "execution_count": 26,
   "metadata": {},
   "outputs": [
    {
     "name": "stdout",
     "output_type": "stream",
     "text": [
      "Source path =  ./Project_data/train ; batch size = 10\n"
     ]
    },
    {
     "name": "stderr",
     "output_type": "stream",
     "text": [
      "/Users/Varun/opt/anaconda3/lib/python3.7/site-packages/ipykernel_launcher.py:5: DeprecationWarning: `imresize` is deprecated!\n",
      "`imresize` is deprecated in SciPy 1.0.0, and will be removed in 1.2.0.\n",
      "Use ``skimage.transform.resize`` instead.\n",
      "  \"\"\"\n"
     ]
    },
    {
     "name": "stdout",
     "output_type": "stream",
     "text": [
      "Epoch 1/5\n",
      "67/67 [==============================] - ETA: 0s - loss: 67676495872.0000 - categorical_accuracy: 0.2167 Source path =  ./Project_data/val ; batch size = 10\n",
      "\n",
      "Epoch 00001: saving model to model_init_2020-09-1200_37_35.132483/model-00001-67676495872.00000-0.21669-578973270016.00000-0.41000.h5\n",
      "67/67 [==============================] - 848s 13s/step - loss: 67676495872.0000 - categorical_accuracy: 0.2167 - val_loss: 578973270016.0000 - val_categorical_accuracy: 0.4100\n",
      "Epoch 2/5\n",
      "67/67 [==============================] - ETA: 0s - loss: 1408569958203392.0000 - categorical_accuracy: 0.2056\n",
      "Epoch 00002: saving model to model_init_2020-09-1200_37_35.132483/model-00002-1408569958203392.00000-0.20564-3885401899008000.00000-0.24000.h5\n",
      "67/67 [==============================] - 286s 4s/step - loss: 1408569958203392.0000 - categorical_accuracy: 0.2056 - val_loss: 3885401899008000.0000 - val_categorical_accuracy: 0.2400\n",
      "Epoch 3/5\n",
      "67/67 [==============================] - ETA: 0s - loss: 361560276941668352.0000 - categorical_accuracy: 0.2073\n",
      "Epoch 00003: saving model to model_init_2020-09-1200_37_35.132483/model-00003-361560276941668352.00000-0.20730-286982705332092928.00000-0.00000.h5\n",
      "67/67 [==============================] - 286s 4s/step - loss: 361560276941668352.0000 - categorical_accuracy: 0.2073 - val_loss: 286982705332092928.0000 - val_categorical_accuracy: 0.0000e+00\n",
      "Epoch 4/5\n",
      "67/67 [==============================] - ETA: 0s - loss: nan - categorical_accuracy: 0.2819\n",
      "Epoch 00004: saving model to model_init_2020-09-1200_37_35.132483/model-00004-nan-0.28192-nan-0.39000.h5\n",
      "67/67 [==============================] - 294s 4s/step - loss: nan - categorical_accuracy: 0.2819 - val_loss: nan - val_categorical_accuracy: 0.3900\n",
      "Epoch 5/5\n",
      "67/67 [==============================] - ETA: 0s - loss: nan - categorical_accuracy: 0.4627\n",
      "Epoch 00005: saving model to model_init_2020-09-1200_37_35.132483/model-00005-nan-0.46269-nan-0.45000.h5\n",
      "67/67 [==============================] - 315s 5s/step - loss: nan - categorical_accuracy: 0.4627 - val_loss: nan - val_categorical_accuracy: 0.4500\n"
     ]
    },
    {
     "data": {
      "text/plain": [
       "<tensorflow.python.keras.callbacks.History at 0x153a3c450>"
      ]
     },
     "execution_count": 26,
     "metadata": {},
     "output_type": "execute_result"
    }
   ],
   "source": [
    "model.fit_generator(train_generator, steps_per_epoch=steps_per_epoch, epochs=num_epochs, verbose=1, \n",
    "                    callbacks=callbacks_list, validation_data=val_generator, \n",
    "                    validation_steps=validation_steps, class_weight=None, workers=1, initial_epoch=0)"
   ]
  },
  {
   "cell_type": "markdown",
   "metadata": {},
   "source": [
    "# Model 2"
   ]
  },
  {
   "cell_type": "code",
   "execution_count": 27,
   "metadata": {},
   "outputs": [
    {
     "name": "stdout",
     "output_type": "stream",
     "text": [
      "Model: \"sequential_4\"\n",
      "_________________________________________________________________\n",
      "Layer (type)                 Output Shape              Param #   \n",
      "=================================================================\n",
      "conv1 (Conv3D)               (None, 15, 120, 120, 8)   3008      \n",
      "_________________________________________________________________\n",
      "activation (Activation)      (None, 15, 120, 120, 8)   0         \n",
      "_________________________________________________________________\n",
      "conv2 (Conv3D)               (None, 15, 120, 120, 16)  3472      \n",
      "_________________________________________________________________\n",
      "activation_1 (Activation)    (None, 15, 120, 120, 16)  0         \n",
      "_________________________________________________________________\n",
      "max_pooling3d_16 (MaxPooling (None, 7, 60, 60, 16)     0         \n",
      "_________________________________________________________________\n",
      "conv3 (Conv3D)               (None, 7, 60, 60, 32)     4640      \n",
      "_________________________________________________________________\n",
      "activation_2 (Activation)    (None, 7, 60, 60, 32)     0         \n",
      "_________________________________________________________________\n",
      "max_pooling3d_17 (MaxPooling (None, 3, 30, 30, 32)     0         \n",
      "_________________________________________________________________\n",
      "batch_normalization (BatchNo (None, 3, 30, 30, 32)     128       \n",
      "_________________________________________________________________\n",
      "dropout_8 (Dropout)          (None, 3, 30, 30, 32)     0         \n",
      "_________________________________________________________________\n",
      "max_pooling3d_18 (MaxPooling (None, 1, 15, 15, 32)     0         \n",
      "_________________________________________________________________\n",
      "flatten_4 (Flatten)          (None, 7200)              0         \n",
      "_________________________________________________________________\n",
      "dense_11 (Dense)             (None, 128)               921728    \n",
      "_________________________________________________________________\n",
      "dropout_9 (Dropout)          (None, 128)               0         \n",
      "_________________________________________________________________\n",
      "dense_12 (Dense)             (None, 64)                8256      \n",
      "_________________________________________________________________\n",
      "dense_13 (Dense)             (None, 5)                 325       \n",
      "=================================================================\n",
      "Total params: 941,557\n",
      "Trainable params: 941,493\n",
      "Non-trainable params: 64\n",
      "_________________________________________________________________\n",
      "None\n"
     ]
    }
   ],
   "source": [
    "nb_featuremap = [8,16,32,64]\n",
    "nb_dense = [128,64,5]\n",
    "nb_classes = 5\n",
    "# Input\n",
    "input_shape=(frames,rows,cols,channels)\n",
    "\n",
    "model3d = Sequential()\n",
    "model3d.add(Conv3D(nb_featuremap[0], \n",
    "                 kernel_size=(5,5,5),\n",
    "                 input_shape=input_shape,\n",
    "                 padding='same', name=\"conv1\"))\n",
    "model3d.add(Activation('relu'))\n",
    "model3d.add(Conv3D(nb_featuremap[1], \n",
    "                 kernel_size=(3,3,3),\n",
    "                 padding='same',name=\"conv2\"))\n",
    "model3d.add(Activation('relu'))\n",
    "model3d.add(MaxPooling3D(pool_size=(2,2,2)))\n",
    "model3d.add(Conv3D(nb_featuremap[2], \n",
    "                 kernel_size=(1,3,3), \n",
    "                 padding='same',name=\"conv3\"))\n",
    "model3d.add(Activation('relu'))\n",
    "model3d.add(MaxPooling3D(pool_size=(2,2,2)))\n",
    "model3d.add(BatchNormalization())\n",
    "model3d.add(Dropout(0.25))\n",
    "model3d.add(MaxPooling3D(pool_size=(2,2,2)))\n",
    "model3d.add(Flatten())\n",
    "model3d.add(Dense(nb_dense[0], activation='relu'))\n",
    "model3d.add(Dropout(0.25))\n",
    "model3d.add(Dense(nb_dense[1], activation='relu'))\n",
    "#softmax layer\n",
    "model3d.add(Dense(nb_dense[2], activation='softmax'))\n",
    "optimiser = Adam(0.001)\n",
    "model3d.compile(optimizer=optimiser, loss='categorical_crossentropy', metrics=['categorical_accuracy'])\n",
    "print (model3d.summary())"
   ]
  },
  {
   "cell_type": "code",
   "execution_count": 28,
   "metadata": {},
   "outputs": [
    {
     "name": "stderr",
     "output_type": "stream",
     "text": [
      "/Users/Varun/opt/anaconda3/lib/python3.7/site-packages/ipykernel_launcher.py:5: DeprecationWarning: `imresize` is deprecated!\n",
      "`imresize` is deprecated in SciPy 1.0.0, and will be removed in 1.2.0.\n",
      "Use ``skimage.transform.resize`` instead.\n",
      "  \"\"\"\n"
     ]
    },
    {
     "name": "stdout",
     "output_type": "stream",
     "text": [
      "Epoch 1/5\n",
      "67/67 [==============================] - ETA: 0s - loss: 30.0582 - categorical_accuracy: 0.2090 \n",
      "Epoch 00001: saving model to model_init_2020-09-1200_37_35.132483/model-00001-30.05818-0.20896-40.73129-0.00000.h5\n",
      "67/67 [==============================] - 1002s 15s/step - loss: 30.0582 - categorical_accuracy: 0.2090 - val_loss: 40.7313 - val_categorical_accuracy: 0.0000e+00\n",
      "Epoch 2/5\n",
      "67/67 [==============================] - ETA: 0s - loss: 234.1310 - categorical_accuracy: 0.2040 \n",
      "Epoch 00002: saving model to model_init_2020-09-1200_37_35.132483/model-00002-234.13097-0.20398-158.49219-0.01000.h5\n",
      "67/67 [==============================] - 862s 13s/step - loss: 234.1310 - categorical_accuracy: 0.2040 - val_loss: 158.4922 - val_categorical_accuracy: 0.0100\n",
      "Epoch 3/5\n",
      "67/67 [==============================] - ETA: 0s - loss: 651.8184 - categorical_accuracy: 0.1924 \n",
      "Epoch 00003: saving model to model_init_2020-09-1200_37_35.132483/model-00003-651.81836-0.19237-166.35483-0.00000.h5\n",
      "67/67 [==============================] - 863s 13s/step - loss: 651.8184 - categorical_accuracy: 0.1924 - val_loss: 166.3548 - val_categorical_accuracy: 0.0000e+00\n",
      "Epoch 4/5\n",
      "67/67 [==============================] - ETA: 0s - loss: 2291.6492 - categorical_accuracy: 0.2255 \n",
      "Epoch 00004: saving model to model_init_2020-09-1200_37_35.132483/model-00004-2291.64917-0.22554-552.68762-0.40000.h5\n",
      "67/67 [==============================] - 800s 12s/step - loss: 2291.6492 - categorical_accuracy: 0.2255 - val_loss: 552.6876 - val_categorical_accuracy: 0.4000\n",
      "Epoch 5/5\n",
      "67/67 [==============================] - ETA: 0s - loss: 5055.1289 - categorical_accuracy: 0.2007 \n",
      "Epoch 00005: saving model to model_init_2020-09-1200_37_35.132483/model-00005-5055.12891-0.20066-1294.29883-0.41000.h5\n",
      "67/67 [==============================] - 833s 12s/step - loss: 5055.1289 - categorical_accuracy: 0.2007 - val_loss: 1294.2988 - val_categorical_accuracy: 0.4100\n"
     ]
    },
    {
     "data": {
      "text/plain": [
       "<tensorflow.python.keras.callbacks.History at 0x1411abb90>"
      ]
     },
     "execution_count": 28,
     "metadata": {},
     "output_type": "execute_result"
    }
   ],
   "source": [
    "model3d.fit_generator(train_generator, steps_per_epoch=steps_per_epoch, epochs=num_epochs, verbose=1, \n",
    "                    callbacks=callbacks_list, validation_data=val_generator, \n",
    "                    validation_steps=validation_steps, class_weight=None, workers=1, initial_epoch=0)"
   ]
  },
  {
   "cell_type": "code",
   "execution_count": null,
   "metadata": {},
   "outputs": [],
   "source": []
  }
 ],
 "metadata": {
  "kernelspec": {
   "display_name": "Python 3",
   "language": "python",
   "name": "python3"
  },
  "language_info": {
   "codemirror_mode": {
    "name": "ipython",
    "version": 3
   },
   "file_extension": ".py",
   "mimetype": "text/x-python",
   "name": "python",
   "nbconvert_exporter": "python",
   "pygments_lexer": "ipython3",
   "version": "3.7.6"
  }
 },
 "nbformat": 4,
 "nbformat_minor": 2
}
